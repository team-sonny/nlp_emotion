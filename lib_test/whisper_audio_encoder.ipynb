{
  "nbformat": 4,
  "nbformat_minor": 0,
  "metadata": {
    "colab": {
      "provenance": [],
      "machine_shape": "hm"
    },
    "kernelspec": {
      "name": "python3",
      "display_name": "Python 3"
    },
    "language_info": {
      "name": "python"
    },
    "accelerator": "GPU",
    "gpuClass": "standard",
    "widgets": {
      "application/vnd.jupyter.widget-state+json": {
        "55da8ea7291648f78be0a8c7fa2e134f": {
          "model_module": "@jupyter-widgets/controls",
          "model_name": "HBoxModel",
          "model_module_version": "1.5.0",
          "state": {
            "_dom_classes": [],
            "_model_module": "@jupyter-widgets/controls",
            "_model_module_version": "1.5.0",
            "_model_name": "HBoxModel",
            "_view_count": null,
            "_view_module": "@jupyter-widgets/controls",
            "_view_module_version": "1.5.0",
            "_view_name": "HBoxView",
            "box_style": "",
            "children": [
              "IPY_MODEL_aef707922c8846d29af2e8e79113c0be",
              "IPY_MODEL_c97daa1bfa534b5894196553753192cc",
              "IPY_MODEL_35fd2ae858b74c569dde645e7919f3ef"
            ],
            "layout": "IPY_MODEL_3bb0071d36b64f01aad4bbf554fcd17a"
          }
        },
        "aef707922c8846d29af2e8e79113c0be": {
          "model_module": "@jupyter-widgets/controls",
          "model_name": "HTMLModel",
          "model_module_version": "1.5.0",
          "state": {
            "_dom_classes": [],
            "_model_module": "@jupyter-widgets/controls",
            "_model_module_version": "1.5.0",
            "_model_name": "HTMLModel",
            "_view_count": null,
            "_view_module": "@jupyter-widgets/controls",
            "_view_module_version": "1.5.0",
            "_view_name": "HTMLView",
            "description": "",
            "description_tooltip": null,
            "layout": "IPY_MODEL_430454fd992d4f3a81cec5ed05a898d9",
            "placeholder": "​",
            "style": "IPY_MODEL_d2b3fb35255249de83767c10d06f8dba",
            "value": "100%"
          }
        },
        "c97daa1bfa534b5894196553753192cc": {
          "model_module": "@jupyter-widgets/controls",
          "model_name": "FloatProgressModel",
          "model_module_version": "1.5.0",
          "state": {
            "_dom_classes": [],
            "_model_module": "@jupyter-widgets/controls",
            "_model_module_version": "1.5.0",
            "_model_name": "FloatProgressModel",
            "_view_count": null,
            "_view_module": "@jupyter-widgets/controls",
            "_view_module_version": "1.5.0",
            "_view_name": "ProgressView",
            "bar_style": "success",
            "description": "",
            "description_tooltip": null,
            "layout": "IPY_MODEL_57b6139ba8da4a8298718a5e1c8b0ced",
            "max": 125,
            "min": 0,
            "orientation": "horizontal",
            "style": "IPY_MODEL_536cdd08023e427cba4f75f9d377913f",
            "value": 125
          }
        },
        "35fd2ae858b74c569dde645e7919f3ef": {
          "model_module": "@jupyter-widgets/controls",
          "model_name": "HTMLModel",
          "model_module_version": "1.5.0",
          "state": {
            "_dom_classes": [],
            "_model_module": "@jupyter-widgets/controls",
            "_model_module_version": "1.5.0",
            "_model_name": "HTMLModel",
            "_view_count": null,
            "_view_module": "@jupyter-widgets/controls",
            "_view_module_version": "1.5.0",
            "_view_name": "HTMLView",
            "description": "",
            "description_tooltip": null,
            "layout": "IPY_MODEL_b5753da974df4fc0a74e5ce37a5e6bc8",
            "placeholder": "​",
            "style": "IPY_MODEL_43c576f7f7f1443a866b16cdce8da8e7",
            "value": " 125/125 [28:07&lt;00:00, 13.41s/it]"
          }
        },
        "3bb0071d36b64f01aad4bbf554fcd17a": {
          "model_module": "@jupyter-widgets/base",
          "model_name": "LayoutModel",
          "model_module_version": "1.2.0",
          "state": {
            "_model_module": "@jupyter-widgets/base",
            "_model_module_version": "1.2.0",
            "_model_name": "LayoutModel",
            "_view_count": null,
            "_view_module": "@jupyter-widgets/base",
            "_view_module_version": "1.2.0",
            "_view_name": "LayoutView",
            "align_content": null,
            "align_items": null,
            "align_self": null,
            "border": null,
            "bottom": null,
            "display": null,
            "flex": null,
            "flex_flow": null,
            "grid_area": null,
            "grid_auto_columns": null,
            "grid_auto_flow": null,
            "grid_auto_rows": null,
            "grid_column": null,
            "grid_gap": null,
            "grid_row": null,
            "grid_template_areas": null,
            "grid_template_columns": null,
            "grid_template_rows": null,
            "height": null,
            "justify_content": null,
            "justify_items": null,
            "left": null,
            "margin": null,
            "max_height": null,
            "max_width": null,
            "min_height": null,
            "min_width": null,
            "object_fit": null,
            "object_position": null,
            "order": null,
            "overflow": null,
            "overflow_x": null,
            "overflow_y": null,
            "padding": null,
            "right": null,
            "top": null,
            "visibility": null,
            "width": null
          }
        },
        "430454fd992d4f3a81cec5ed05a898d9": {
          "model_module": "@jupyter-widgets/base",
          "model_name": "LayoutModel",
          "model_module_version": "1.2.0",
          "state": {
            "_model_module": "@jupyter-widgets/base",
            "_model_module_version": "1.2.0",
            "_model_name": "LayoutModel",
            "_view_count": null,
            "_view_module": "@jupyter-widgets/base",
            "_view_module_version": "1.2.0",
            "_view_name": "LayoutView",
            "align_content": null,
            "align_items": null,
            "align_self": null,
            "border": null,
            "bottom": null,
            "display": null,
            "flex": null,
            "flex_flow": null,
            "grid_area": null,
            "grid_auto_columns": null,
            "grid_auto_flow": null,
            "grid_auto_rows": null,
            "grid_column": null,
            "grid_gap": null,
            "grid_row": null,
            "grid_template_areas": null,
            "grid_template_columns": null,
            "grid_template_rows": null,
            "height": null,
            "justify_content": null,
            "justify_items": null,
            "left": null,
            "margin": null,
            "max_height": null,
            "max_width": null,
            "min_height": null,
            "min_width": null,
            "object_fit": null,
            "object_position": null,
            "order": null,
            "overflow": null,
            "overflow_x": null,
            "overflow_y": null,
            "padding": null,
            "right": null,
            "top": null,
            "visibility": null,
            "width": null
          }
        },
        "d2b3fb35255249de83767c10d06f8dba": {
          "model_module": "@jupyter-widgets/controls",
          "model_name": "DescriptionStyleModel",
          "model_module_version": "1.5.0",
          "state": {
            "_model_module": "@jupyter-widgets/controls",
            "_model_module_version": "1.5.0",
            "_model_name": "DescriptionStyleModel",
            "_view_count": null,
            "_view_module": "@jupyter-widgets/base",
            "_view_module_version": "1.2.0",
            "_view_name": "StyleView",
            "description_width": ""
          }
        },
        "57b6139ba8da4a8298718a5e1c8b0ced": {
          "model_module": "@jupyter-widgets/base",
          "model_name": "LayoutModel",
          "model_module_version": "1.2.0",
          "state": {
            "_model_module": "@jupyter-widgets/base",
            "_model_module_version": "1.2.0",
            "_model_name": "LayoutModel",
            "_view_count": null,
            "_view_module": "@jupyter-widgets/base",
            "_view_module_version": "1.2.0",
            "_view_name": "LayoutView",
            "align_content": null,
            "align_items": null,
            "align_self": null,
            "border": null,
            "bottom": null,
            "display": null,
            "flex": null,
            "flex_flow": null,
            "grid_area": null,
            "grid_auto_columns": null,
            "grid_auto_flow": null,
            "grid_auto_rows": null,
            "grid_column": null,
            "grid_gap": null,
            "grid_row": null,
            "grid_template_areas": null,
            "grid_template_columns": null,
            "grid_template_rows": null,
            "height": null,
            "justify_content": null,
            "justify_items": null,
            "left": null,
            "margin": null,
            "max_height": null,
            "max_width": null,
            "min_height": null,
            "min_width": null,
            "object_fit": null,
            "object_position": null,
            "order": null,
            "overflow": null,
            "overflow_x": null,
            "overflow_y": null,
            "padding": null,
            "right": null,
            "top": null,
            "visibility": null,
            "width": null
          }
        },
        "536cdd08023e427cba4f75f9d377913f": {
          "model_module": "@jupyter-widgets/controls",
          "model_name": "ProgressStyleModel",
          "model_module_version": "1.5.0",
          "state": {
            "_model_module": "@jupyter-widgets/controls",
            "_model_module_version": "1.5.0",
            "_model_name": "ProgressStyleModel",
            "_view_count": null,
            "_view_module": "@jupyter-widgets/base",
            "_view_module_version": "1.2.0",
            "_view_name": "StyleView",
            "bar_color": null,
            "description_width": ""
          }
        },
        "b5753da974df4fc0a74e5ce37a5e6bc8": {
          "model_module": "@jupyter-widgets/base",
          "model_name": "LayoutModel",
          "model_module_version": "1.2.0",
          "state": {
            "_model_module": "@jupyter-widgets/base",
            "_model_module_version": "1.2.0",
            "_model_name": "LayoutModel",
            "_view_count": null,
            "_view_module": "@jupyter-widgets/base",
            "_view_module_version": "1.2.0",
            "_view_name": "LayoutView",
            "align_content": null,
            "align_items": null,
            "align_self": null,
            "border": null,
            "bottom": null,
            "display": null,
            "flex": null,
            "flex_flow": null,
            "grid_area": null,
            "grid_auto_columns": null,
            "grid_auto_flow": null,
            "grid_auto_rows": null,
            "grid_column": null,
            "grid_gap": null,
            "grid_row": null,
            "grid_template_areas": null,
            "grid_template_columns": null,
            "grid_template_rows": null,
            "height": null,
            "justify_content": null,
            "justify_items": null,
            "left": null,
            "margin": null,
            "max_height": null,
            "max_width": null,
            "min_height": null,
            "min_width": null,
            "object_fit": null,
            "object_position": null,
            "order": null,
            "overflow": null,
            "overflow_x": null,
            "overflow_y": null,
            "padding": null,
            "right": null,
            "top": null,
            "visibility": null,
            "width": null
          }
        },
        "43c576f7f7f1443a866b16cdce8da8e7": {
          "model_module": "@jupyter-widgets/controls",
          "model_name": "DescriptionStyleModel",
          "model_module_version": "1.5.0",
          "state": {
            "_model_module": "@jupyter-widgets/controls",
            "_model_module_version": "1.5.0",
            "_model_name": "DescriptionStyleModel",
            "_view_count": null,
            "_view_module": "@jupyter-widgets/base",
            "_view_module_version": "1.2.0",
            "_view_name": "StyleView",
            "description_width": ""
          }
        }
      }
    }
  },
  "cells": [
    {
      "cell_type": "code",
      "source": [
        "! pip install -U openai-whisper"
      ],
      "metadata": {
        "id": "K9PY7_X6_tnr"
      },
      "execution_count": null,
      "outputs": []
    },
    {
      "cell_type": "code",
      "source": [
        "# cd drive/MyDrive/sonny"
      ],
      "metadata": {
        "colab": {
          "base_uri": "https://localhost:8080/"
        },
        "id": "2QSN9lq8CY3Z",
        "outputId": "ff4a0f81-5e90-47eb-9a77-15a1bed94a66"
      },
      "execution_count": 59,
      "outputs": [
        {
          "output_type": "stream",
          "name": "stdout",
          "text": [
            "[Errno 2] No such file or directory: 'drive/MyDrive/sonny'\n",
            "/content/drive/MyDrive/sonny\n"
          ]
        }
      ]
    },
    {
      "cell_type": "code",
      "source": [
        "import os\n",
        "import numpy as np\n",
        "\n",
        "try:\n",
        "    import tensorflow  # required in Colab to avoid protobuf compatibility issues\n",
        "except ImportError:\n",
        "    pass\n",
        "\n",
        "import torch\n",
        "import pandas as pd\n",
        "import whisper\n",
        "import torchaudio\n",
        "\n",
        "from tqdm.notebook import tqdm\n",
        "\n",
        "\n",
        "DEVICE = \"cuda\" if torch.cuda.is_available() else \"cpu\""
      ],
      "metadata": {
        "id": "FGE3NCPf_dtu"
      },
      "execution_count": 2,
      "outputs": []
    },
    {
      "cell_type": "code",
      "source": [
        "from torch.utils.data import Dataset\n",
        "from torch.nn import functional as F\n",
        "import random\n",
        "import torch\n",
        "import numpy as np\n",
        "import pandas as pd\n",
        "import soundfile as sf"
      ],
      "metadata": {
        "id": "m2nO7QzrD789"
      },
      "execution_count": 16,
      "outputs": []
    },
    {
      "cell_type": "code",
      "source": [
        "class customAudioDataset(Dataset):\n",
        "      def __init__(self, csv_path):\n",
        "            self.data = pd.read_csv(csv_path, header=[0, 1])\n",
        "            self.text_data = self.data['text_data'][' '].values\n",
        "            self.wav_dir = self.data['wav_dir'][' '].values\n",
        "\n",
        "      def __len__(self):\n",
        "            return len(self.data)\n",
        "          \n",
        "      def __getitem__(self, idx):\n",
        "            audio_input, sample_rate = sf.read(self.wav_dir[idx])\n",
        "            audio = whisper.pad_or_trim(audio_input)\n",
        "            audio = torch.tensor(audio, dtype = torch.float32)\n",
        "            mel = whisper.log_mel_spectrogram(audio)\n",
        "            return (mel, self.text_data[idx])"
      ],
      "metadata": {
        "id": "Sv0cyJ6jDbiG"
      },
      "execution_count": 104,
      "outputs": []
    },
    {
      "cell_type": "code",
      "source": [
        "dataset = customAudioDataset('KEMDy20_val_data.csv')"
      ],
      "metadata": {
        "id": "wKJ8YLQZEmkb"
      },
      "execution_count": 105,
      "outputs": []
    },
    {
      "cell_type": "code",
      "source": [
        "loader = torch.utils.data.DataLoader(dataset, batch_size=16)"
      ],
      "metadata": {
        "id": "OtgN1X2YElw2"
      },
      "execution_count": 107,
      "outputs": []
    },
    {
      "cell_type": "code",
      "source": [
        "model = whisper.load_model(\"base\")\n",
        "print(\n",
        "    f\"Model is {'multilingual' if model.is_multilingual else 'English-only'} \"\n",
        "    f\"and has {sum(np.prod(p.shape) for p in model.parameters()):,} parameters.\"\n",
        ")"
      ],
      "metadata": {
        "id": "E17svQrmACpV"
      },
      "execution_count": null,
      "outputs": []
    },
    {
      "cell_type": "code",
      "source": [
        "options = whisper.DecodingOptions(language=\"ko\", without_timestamps=True)"
      ],
      "metadata": {
        "id": "0i5PpQKBAGzd"
      },
      "execution_count": 71,
      "outputs": []
    },
    {
      "cell_type": "code",
      "source": [
        "hypotheses = []\n",
        "references = []\n",
        "\n",
        "for mels, texts in tqdm(loader):\n",
        "    mels = mels.to('cuda')\n",
        "    results = model.decode(mels, options)\n",
        "    hypotheses.extend([result.text for result in results])\n",
        "    references.extend(texts)"
      ],
      "metadata": {
        "colab": {
          "base_uri": "https://localhost:8080/",
          "height": 49,
          "referenced_widgets": [
            "55da8ea7291648f78be0a8c7fa2e134f",
            "aef707922c8846d29af2e8e79113c0be",
            "c97daa1bfa534b5894196553753192cc",
            "35fd2ae858b74c569dde645e7919f3ef",
            "3bb0071d36b64f01aad4bbf554fcd17a",
            "430454fd992d4f3a81cec5ed05a898d9",
            "d2b3fb35255249de83767c10d06f8dba",
            "57b6139ba8da4a8298718a5e1c8b0ced",
            "536cdd08023e427cba4f75f9d377913f",
            "b5753da974df4fc0a74e5ce37a5e6bc8",
            "43c576f7f7f1443a866b16cdce8da8e7"
          ]
        },
        "id": "azLBkfQAALop",
        "outputId": "61fc3199-561f-4305-f6fe-cb6d1c6edf3b"
      },
      "execution_count": 110,
      "outputs": [
        {
          "output_type": "display_data",
          "data": {
            "text/plain": [
              "  0%|          | 0/125 [00:00<?, ?it/s]"
            ],
            "application/vnd.jupyter.widget-view+json": {
              "version_major": 2,
              "version_minor": 0,
              "model_id": "55da8ea7291648f78be0a8c7fa2e134f"
            }
          },
          "metadata": {}
        }
      ]
    },
    {
      "cell_type": "code",
      "source": [
        "data = pd.DataFrame(dict(hypothesis=hypotheses, reference=references))\n",
        "data"
      ],
      "metadata": {
        "colab": {
          "base_uri": "https://localhost:8080/",
          "height": 424
        },
        "id": "xOOOyq1QAMS7",
        "outputId": "a7d2799c-650b-4ae8-9b08-d02d30bf7144"
      },
      "execution_count": 111,
      "outputs": [
        {
          "output_type": "execute_result",
          "data": {
            "text/plain": [
              "                                             hypothesis  \\\n",
              "0     맞아 그냥 모든 시험 채용이라 이런 데에서 공평하게 남자 몇 명 여자 몇 명 뽑겠다...   \n",
              "1     우리도 지금 보면 여자면명 꼭 뻗어야 된다고 이런 식으로 해서 뽑고는 있는데 또 막...   \n",
              "2     남자는 예를 들어서 달리기를 100개를 해야 된다면 여자나 50개만 남아있게 가고 ...   \n",
              "3      그래서 미국 같은 경우는 남자 여자 체력 기준을 똑같이 해가지고 똑같이 채용을 하거든.   \n",
              "4     그만큼 여자도 그만큼 능력이 되는 사람이 와서 일을 하니까 우리도 뭐 할 수 없는 ...   \n",
              "...                                                 ...   \n",
              "1995                                           주인이 잘못했어   \n",
              "1996              그거는 동글병으로 갈 게 아니라 훈련사들 불러야 하는 거 아니에요.   \n",
              "1997             야 내가 찾아... 그것도 찾아 봤거든? 한 번 부른데 30만원이죠?   \n",
              "1998                                         K-FK 훈련사처럼   \n",
              "1999                                     그래, 몽봉이던 20만원에   \n",
              "\n",
              "                                              reference  \n",
              "0     맞아 그냥 이렇게 시험 채용이나 이런 데에서 공평하게 남자 몇 명 여자 몇 명 뽑겠...  \n",
              "1     우리도 지금 보면은 어 여자 몇 명 꼭 뽑아야 된다고 이런 식으로 해서 뽑고는 있는...  \n",
              "2     남자는 예를 들어서 뭐 달리기를 뭐 100개를 해야 된다면은 여자는 한 50개만 하...  \n",
              "3     그래가지고 미국 같은 경우는 나, 남자 여자 체력 기준을 똑같이 해가지고 똑같이 채...  \n",
              "4     그만큼 여자도 인제 그만큼 능력이 되는 사람이 와서 일을 하니까 우리도 어 뭐라 할...  \n",
              "...                                                 ...  \n",
              "1995                                    음 음 주인이 잘못했어.\\n  \n",
              "1996     그거는 동물 병원 갈 게 아니라 그 뭐야 뭐야 훈련사들 불러야 되는 거 아니야?\\n  \n",
              "1997   야 그거 내가 찾아 l/ 그것도 찾아봤거든 한 번 부르는데 30만 원이 넘어. l/\\n  \n",
              "1998                                  c/ 그 개 개 훈련사처럼.\\n  \n",
              "1999                           어후, 그래 멍멍이도 한 20만 원 해.\\n  \n",
              "\n",
              "[2000 rows x 2 columns]"
            ],
            "text/html": [
              "\n",
              "  <div id=\"df-c0ff400e-7889-4383-87b7-19936f17fddc\">\n",
              "    <div class=\"colab-df-container\">\n",
              "      <div>\n",
              "<style scoped>\n",
              "    .dataframe tbody tr th:only-of-type {\n",
              "        vertical-align: middle;\n",
              "    }\n",
              "\n",
              "    .dataframe tbody tr th {\n",
              "        vertical-align: top;\n",
              "    }\n",
              "\n",
              "    .dataframe thead th {\n",
              "        text-align: right;\n",
              "    }\n",
              "</style>\n",
              "<table border=\"1\" class=\"dataframe\">\n",
              "  <thead>\n",
              "    <tr style=\"text-align: right;\">\n",
              "      <th></th>\n",
              "      <th>hypothesis</th>\n",
              "      <th>reference</th>\n",
              "    </tr>\n",
              "  </thead>\n",
              "  <tbody>\n",
              "    <tr>\n",
              "      <th>0</th>\n",
              "      <td>맞아 그냥 모든 시험 채용이라 이런 데에서 공평하게 남자 몇 명 여자 몇 명 뽑겠다...</td>\n",
              "      <td>맞아 그냥 이렇게 시험 채용이나 이런 데에서 공평하게 남자 몇 명 여자 몇 명 뽑겠...</td>\n",
              "    </tr>\n",
              "    <tr>\n",
              "      <th>1</th>\n",
              "      <td>우리도 지금 보면 여자면명 꼭 뻗어야 된다고 이런 식으로 해서 뽑고는 있는데 또 막...</td>\n",
              "      <td>우리도 지금 보면은 어 여자 몇 명 꼭 뽑아야 된다고 이런 식으로 해서 뽑고는 있는...</td>\n",
              "    </tr>\n",
              "    <tr>\n",
              "      <th>2</th>\n",
              "      <td>남자는 예를 들어서 달리기를 100개를 해야 된다면 여자나 50개만 남아있게 가고 ...</td>\n",
              "      <td>남자는 예를 들어서 뭐 달리기를 뭐 100개를 해야 된다면은 여자는 한 50개만 하...</td>\n",
              "    </tr>\n",
              "    <tr>\n",
              "      <th>3</th>\n",
              "      <td>그래서 미국 같은 경우는 남자 여자 체력 기준을 똑같이 해가지고 똑같이 채용을 하거든.</td>\n",
              "      <td>그래가지고 미국 같은 경우는 나, 남자 여자 체력 기준을 똑같이 해가지고 똑같이 채...</td>\n",
              "    </tr>\n",
              "    <tr>\n",
              "      <th>4</th>\n",
              "      <td>그만큼 여자도 그만큼 능력이 되는 사람이 와서 일을 하니까 우리도 뭐 할 수 없는 ...</td>\n",
              "      <td>그만큼 여자도 인제 그만큼 능력이 되는 사람이 와서 일을 하니까 우리도 어 뭐라 할...</td>\n",
              "    </tr>\n",
              "    <tr>\n",
              "      <th>...</th>\n",
              "      <td>...</td>\n",
              "      <td>...</td>\n",
              "    </tr>\n",
              "    <tr>\n",
              "      <th>1995</th>\n",
              "      <td>주인이 잘못했어</td>\n",
              "      <td>음 음 주인이 잘못했어.\\n</td>\n",
              "    </tr>\n",
              "    <tr>\n",
              "      <th>1996</th>\n",
              "      <td>그거는 동글병으로 갈 게 아니라 훈련사들 불러야 하는 거 아니에요.</td>\n",
              "      <td>그거는 동물 병원 갈 게 아니라 그 뭐야 뭐야 훈련사들 불러야 되는 거 아니야?\\n</td>\n",
              "    </tr>\n",
              "    <tr>\n",
              "      <th>1997</th>\n",
              "      <td>야 내가 찾아... 그것도 찾아 봤거든? 한 번 부른데 30만원이죠?</td>\n",
              "      <td>야 그거 내가 찾아 l/ 그것도 찾아봤거든 한 번 부르는데 30만 원이 넘어. l/\\n</td>\n",
              "    </tr>\n",
              "    <tr>\n",
              "      <th>1998</th>\n",
              "      <td>K-FK 훈련사처럼</td>\n",
              "      <td>c/ 그 개 개 훈련사처럼.\\n</td>\n",
              "    </tr>\n",
              "    <tr>\n",
              "      <th>1999</th>\n",
              "      <td>그래, 몽봉이던 20만원에</td>\n",
              "      <td>어후, 그래 멍멍이도 한 20만 원 해.\\n</td>\n",
              "    </tr>\n",
              "  </tbody>\n",
              "</table>\n",
              "<p>2000 rows × 2 columns</p>\n",
              "</div>\n",
              "      <button class=\"colab-df-convert\" onclick=\"convertToInteractive('df-c0ff400e-7889-4383-87b7-19936f17fddc')\"\n",
              "              title=\"Convert this dataframe to an interactive table.\"\n",
              "              style=\"display:none;\">\n",
              "        \n",
              "  <svg xmlns=\"http://www.w3.org/2000/svg\" height=\"24px\"viewBox=\"0 0 24 24\"\n",
              "       width=\"24px\">\n",
              "    <path d=\"M0 0h24v24H0V0z\" fill=\"none\"/>\n",
              "    <path d=\"M18.56 5.44l.94 2.06.94-2.06 2.06-.94-2.06-.94-.94-2.06-.94 2.06-2.06.94zm-11 1L8.5 8.5l.94-2.06 2.06-.94-2.06-.94L8.5 2.5l-.94 2.06-2.06.94zm10 10l.94 2.06.94-2.06 2.06-.94-2.06-.94-.94-2.06-.94 2.06-2.06.94z\"/><path d=\"M17.41 7.96l-1.37-1.37c-.4-.4-.92-.59-1.43-.59-.52 0-1.04.2-1.43.59L10.3 9.45l-7.72 7.72c-.78.78-.78 2.05 0 2.83L4 21.41c.39.39.9.59 1.41.59.51 0 1.02-.2 1.41-.59l7.78-7.78 2.81-2.81c.8-.78.8-2.07 0-2.86zM5.41 20L4 18.59l7.72-7.72 1.47 1.35L5.41 20z\"/>\n",
              "  </svg>\n",
              "      </button>\n",
              "      \n",
              "  <style>\n",
              "    .colab-df-container {\n",
              "      display:flex;\n",
              "      flex-wrap:wrap;\n",
              "      gap: 12px;\n",
              "    }\n",
              "\n",
              "    .colab-df-convert {\n",
              "      background-color: #E8F0FE;\n",
              "      border: none;\n",
              "      border-radius: 50%;\n",
              "      cursor: pointer;\n",
              "      display: none;\n",
              "      fill: #1967D2;\n",
              "      height: 32px;\n",
              "      padding: 0 0 0 0;\n",
              "      width: 32px;\n",
              "    }\n",
              "\n",
              "    .colab-df-convert:hover {\n",
              "      background-color: #E2EBFA;\n",
              "      box-shadow: 0px 1px 2px rgba(60, 64, 67, 0.3), 0px 1px 3px 1px rgba(60, 64, 67, 0.15);\n",
              "      fill: #174EA6;\n",
              "    }\n",
              "\n",
              "    [theme=dark] .colab-df-convert {\n",
              "      background-color: #3B4455;\n",
              "      fill: #D2E3FC;\n",
              "    }\n",
              "\n",
              "    [theme=dark] .colab-df-convert:hover {\n",
              "      background-color: #434B5C;\n",
              "      box-shadow: 0px 1px 3px 1px rgba(0, 0, 0, 0.15);\n",
              "      filter: drop-shadow(0px 1px 2px rgba(0, 0, 0, 0.3));\n",
              "      fill: #FFFFFF;\n",
              "    }\n",
              "  </style>\n",
              "\n",
              "      <script>\n",
              "        const buttonEl =\n",
              "          document.querySelector('#df-c0ff400e-7889-4383-87b7-19936f17fddc button.colab-df-convert');\n",
              "        buttonEl.style.display =\n",
              "          google.colab.kernel.accessAllowed ? 'block' : 'none';\n",
              "\n",
              "        async function convertToInteractive(key) {\n",
              "          const element = document.querySelector('#df-c0ff400e-7889-4383-87b7-19936f17fddc');\n",
              "          const dataTable =\n",
              "            await google.colab.kernel.invokeFunction('convertToInteractive',\n",
              "                                                     [key], {});\n",
              "          if (!dataTable) return;\n",
              "\n",
              "          const docLinkHtml = 'Like what you see? Visit the ' +\n",
              "            '<a target=\"_blank\" href=https://colab.research.google.com/notebooks/data_table.ipynb>data table notebook</a>'\n",
              "            + ' to learn more about interactive tables.';\n",
              "          element.innerHTML = '';\n",
              "          dataTable['output_type'] = 'display_data';\n",
              "          await google.colab.output.renderOutput(dataTable, element);\n",
              "          const docLink = document.createElement('div');\n",
              "          docLink.innerHTML = docLinkHtml;\n",
              "          element.appendChild(docLink);\n",
              "        }\n",
              "      </script>\n",
              "    </div>\n",
              "  </div>\n",
              "  "
            ]
          },
          "metadata": {},
          "execution_count": 111
        }
      ]
    }
  ]
}